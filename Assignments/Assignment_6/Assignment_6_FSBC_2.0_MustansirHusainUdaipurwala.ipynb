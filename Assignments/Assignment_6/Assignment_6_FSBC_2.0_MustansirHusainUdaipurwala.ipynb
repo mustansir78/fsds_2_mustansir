{
 "cells": [
  {
   "cell_type": "markdown",
   "id": "2d1ad051-fbe8-4e71-9fcc-eb0d2c24f001",
   "metadata": {},
   "source": [
    "## 1. write a function which will try to find out len of a string without using an inbuilt len function "
   ]
  },
  {
   "cell_type": "code",
   "execution_count": 1,
   "id": "f13ef884-4aca-4715-bcae-69ff465a1062",
   "metadata": {},
   "outputs": [
    {
     "name": "stdout",
     "output_type": "stream",
     "text": [
      "11\n"
     ]
    }
   ],
   "source": [
    "def strLen(str):\n",
    "    ctr = 0\n",
    "    \n",
    "    for i in str:\n",
    "        ctr += 1\n",
    "    \n",
    "    return ctr\n",
    "\n",
    "\n",
    "str = \"Hello World\"\n",
    "print(strLen(str))"
   ]
  },
  {
   "cell_type": "markdown",
   "id": "eea625f0-2459-49d6-b380-a7bff120ff57",
   "metadata": {},
   "source": [
    "## 2. write a function which  will be able to print an index of list element without using an index function"
   ]
  },
  {
   "cell_type": "code",
   "execution_count": 21,
   "id": "b266608f-4e44-4af8-b3ce-92b7e739bcab",
   "metadata": {},
   "outputs": [
    {
     "name": "stdout",
     "output_type": "stream",
     "text": [
      "Index: None\n"
     ]
    }
   ],
   "source": [
    "def getIndex(lst, elem):\n",
    "    \n",
    "\n",
    "    for i in range(len(lst)):\n",
    "        val = lst[i]\n",
    "\n",
    "        if val == elem:\n",
    "            return i\n",
    "\n",
    "    return None\n",
    "\n",
    "list1 = [10,20,30,40]\n",
    "print(f\"Index: {getIndex(list1, 50)}\")"
   ]
  },
  {
   "cell_type": "markdown",
   "id": "949a82d6-0f85-4351-b702-f967dc1de7d2",
   "metadata": {},
   "source": [
    "## 3. write a function which will be able to print an ip address of your system"
   ]
  },
  {
   "cell_type": "code",
   "execution_count": 24,
   "id": "1e85d375-75ec-45e2-b555-65f2594b867e",
   "metadata": {},
   "outputs": [
    {
     "data": {
      "text/plain": [
       "'127.0.0.1'"
      ]
     },
     "execution_count": 24,
     "metadata": {},
     "output_type": "execute_result"
    }
   ],
   "source": [
    "def getIP():\n",
    "\n",
    "    import socket\n",
    "    \n",
    "    ip = socket.gethostbyname(socket.gethostname())\n",
    "    \n",
    "    return ip\n",
    "\n",
    "getIP()"
   ]
  },
  {
   "cell_type": "markdown",
   "id": "1043583b-f39c-4cf6-924b-f6899827d816",
   "metadata": {},
   "source": [
    "## 4. write a function which will shutdown your system"
   ]
  },
  {
   "cell_type": "code",
   "execution_count": 1,
   "id": "eed00533-3984-498e-90b8-264a71bd7ba5",
   "metadata": {},
   "outputs": [
    {
     "name": "stdin",
     "output_type": "stream",
     "text": [
      "Shutdown system? Y/N N\n"
     ]
    }
   ],
   "source": [
    "def sys_shutdown():\n",
    "    resp = input(\"Shutdown system? Y/N\")\n",
    "    \n",
    "    if resp == \"Y\":\n",
    "        os.system(\"shutdown /s /t 1\")\n",
    "    else:\n",
    "        return\n",
    "\n",
    "sys_shutdown()"
   ]
  },
  {
   "cell_type": "markdown",
   "id": "aa4f89b4-4351-4e9f-8017-e53715c83008",
   "metadata": {},
   "source": [
    "## 5. write a function which will take input as a list with any kind of numeric value and give an out as a multiplication of all the numeric data l = [3.5, 6.56, 4,5,\"sudh\" , \"ineuron\" , 'fsda bootcamp 2.0']"
   ]
  },
  {
   "cell_type": "code",
   "execution_count": 8,
   "id": "04a35d4d-2b66-4fb6-b71c-0941a8a0d05d",
   "metadata": {},
   "outputs": [
    {
     "name": "stdout",
     "output_type": "stream",
     "text": [
      "459.19999999999993\n"
     ]
    }
   ],
   "source": [
    "def multi(lst):\n",
    "    ctr = 1\n",
    "    \n",
    "    for i in lst:\n",
    "        if type(i) == int or type(i) == float:\n",
    "            ctr = i*ctr\n",
    "    \n",
    "    return ctr\n",
    "\n",
    "lst =  [3.5, 6.56, 4,5,\"sudh\" , \"ineuron\" , 'fsda bootcamp 2.0']\n",
    "print(multi(lst))\n"
   ]
  },
  {
   "cell_type": "markdown",
   "id": "811e618a-3745-45d0-a911-70b07bb84d21",
   "metadata": {},
   "source": [
    "## 6. write a function which will be able to read all the mails \n",
    "\n",
    "Here I am attempting to use Gmail API using OAuth 2.0 which is the recommended method by Google. Code is used from their Quickstart tutorial but modified slightly so I can only read email headers of latest 2 messages and not the entire message.\n",
    "\n",
    "This method makes it more secure as unlike App Password method mentioned in the class, this one requires a token file \"credentials.json\" which if not available, the code will not work."
   ]
  },
  {
   "cell_type": "code",
   "execution_count": 11,
   "id": "079c4916-ebe2-4228-bc78-a537be991986",
   "metadata": {},
   "outputs": [
    {
     "name": "stdout",
     "output_type": "stream",
     "text": [
      "Collecting google-api-python-client\n",
      "  Downloading google_api_python_client-2.74.0-py2.py3-none-any.whl (10.9 MB)\n",
      "\u001b[2K     \u001b[38;2;114;156;31m━━━━━━━━━━━━━━━━━━━━━━━━━━━━━━━━━━━━━━━━\u001b[0m \u001b[32m10.9/10.9 MB\u001b[0m \u001b[31m49.9 MB/s\u001b[0m eta \u001b[36m0:00:00\u001b[0mm eta \u001b[36m0:00:01\u001b[0m36m0:00:01\u001b[0m\n",
      "\u001b[?25hCollecting google-auth-httplib2\n",
      "  Downloading google_auth_httplib2-0.1.0-py2.py3-none-any.whl (9.3 kB)\n",
      "Collecting google-auth-oauthlib\n",
      "  Downloading google_auth_oauthlib-0.8.0-py2.py3-none-any.whl (19 kB)\n",
      "Collecting httplib2<1dev,>=0.15.0\n",
      "  Downloading httplib2-0.21.0-py3-none-any.whl (96 kB)\n",
      "\u001b[2K     \u001b[38;2;114;156;31m━━━━━━━━━━━━━━━━━━━━━━━━━━━━━━━━━━━━━━━━\u001b[0m \u001b[32m96.8/96.8 kB\u001b[0m \u001b[31m7.9 MB/s\u001b[0m eta \u001b[36m0:00:00\u001b[0m\n",
      "\u001b[?25hCollecting google-auth<3.0.0dev,>=1.19.0\n",
      "  Downloading google_auth-2.16.0-py2.py3-none-any.whl (177 kB)\n",
      "\u001b[2K     \u001b[38;2;114;156;31m━━━━━━━━━━━━━━━━━━━━━━━━━━━━━━━━━━━━━━\u001b[0m \u001b[32m177.8/177.8 kB\u001b[0m \u001b[31m13.9 MB/s\u001b[0m eta \u001b[36m0:00:00\u001b[0m\n",
      "\u001b[?25hCollecting google-api-core!=2.0.*,!=2.1.*,!=2.2.*,!=2.3.0,<3.0.0dev,>=1.31.5\n",
      "  Downloading google_api_core-2.11.0-py3-none-any.whl (120 kB)\n",
      "\u001b[2K     \u001b[38;2;114;156;31m━━━━━━━━━━━━━━━━━━━━━━━━━━━━━━━━━━━━━━━\u001b[0m \u001b[32m120.3/120.3 kB\u001b[0m \u001b[31m9.1 MB/s\u001b[0m eta \u001b[36m0:00:00\u001b[0m\n",
      "\u001b[?25hCollecting uritemplate<5,>=3.0.1\n",
      "  Using cached uritemplate-4.1.1-py2.py3-none-any.whl (10 kB)\n",
      "Requirement already satisfied: six in /Users/mhusain/opt/anaconda3/lib/python3.9/site-packages (from google-auth-httplib2) (1.16.0)\n",
      "Collecting requests-oauthlib>=0.7.0\n",
      "  Using cached requests_oauthlib-1.3.1-py2.py3-none-any.whl (23 kB)\n",
      "Collecting protobuf!=3.20.0,!=3.20.1,!=4.21.0,!=4.21.1,!=4.21.2,!=4.21.3,!=4.21.4,!=4.21.5,<5.0.0dev,>=3.19.5\n",
      "  Downloading protobuf-4.21.12-cp37-abi3-macosx_10_9_universal2.whl (486 kB)\n",
      "\u001b[2K     \u001b[38;2;114;156;31m━━━━━━━━━━━━━━━━━━━━━━━━━━━━━━━━━━━━━━\u001b[0m \u001b[32m486.2/486.2 kB\u001b[0m \u001b[31m42.3 MB/s\u001b[0m eta \u001b[36m0:00:00\u001b[0m\n",
      "\u001b[?25hRequirement already satisfied: requests<3.0.0dev,>=2.18.0 in /Users/mhusain/opt/anaconda3/lib/python3.9/site-packages (from google-api-core!=2.0.*,!=2.1.*,!=2.2.*,!=2.3.0,<3.0.0dev,>=1.31.5->google-api-python-client) (2.28.1)\n",
      "Collecting googleapis-common-protos<2.0dev,>=1.56.2\n",
      "  Downloading googleapis_common_protos-1.58.0-py2.py3-none-any.whl (223 kB)\n",
      "\u001b[2K     \u001b[38;2;114;156;31m━━━━━━━━━━━━━━━━━━━━━━━━━━━━━━━━━━━━━━\u001b[0m \u001b[32m223.0/223.0 kB\u001b[0m \u001b[31m15.3 MB/s\u001b[0m eta \u001b[36m0:00:00\u001b[0m\n",
      "\u001b[?25hRequirement already satisfied: pyasn1-modules>=0.2.1 in /Users/mhusain/opt/anaconda3/lib/python3.9/site-packages (from google-auth<3.0.0dev,>=1.19.0->google-api-python-client) (0.2.8)\n",
      "Collecting rsa<5,>=3.1.4\n",
      "  Downloading rsa-4.9-py3-none-any.whl (34 kB)\n",
      "Collecting cachetools<6.0,>=2.0.0\n",
      "  Downloading cachetools-5.3.0-py3-none-any.whl (9.3 kB)\n",
      "Requirement already satisfied: pyparsing!=3.0.0,!=3.0.1,!=3.0.2,!=3.0.3,<4,>=2.4.2 in /Users/mhusain/opt/anaconda3/lib/python3.9/site-packages (from httplib2<1dev,>=0.15.0->google-api-python-client) (3.0.9)\n",
      "Collecting oauthlib>=3.0.0\n",
      "  Using cached oauthlib-3.2.2-py3-none-any.whl (151 kB)\n",
      "Requirement already satisfied: pyasn1<0.5.0,>=0.4.6 in /Users/mhusain/opt/anaconda3/lib/python3.9/site-packages (from pyasn1-modules>=0.2.1->google-auth<3.0.0dev,>=1.19.0->google-api-python-client) (0.4.8)\n",
      "Requirement already satisfied: urllib3<1.27,>=1.21.1 in /Users/mhusain/opt/anaconda3/lib/python3.9/site-packages (from requests<3.0.0dev,>=2.18.0->google-api-core!=2.0.*,!=2.1.*,!=2.2.*,!=2.3.0,<3.0.0dev,>=1.31.5->google-api-python-client) (1.26.11)\n",
      "Requirement already satisfied: charset-normalizer<3,>=2 in /Users/mhusain/opt/anaconda3/lib/python3.9/site-packages (from requests<3.0.0dev,>=2.18.0->google-api-core!=2.0.*,!=2.1.*,!=2.2.*,!=2.3.0,<3.0.0dev,>=1.31.5->google-api-python-client) (2.0.4)\n",
      "Requirement already satisfied: certifi>=2017.4.17 in /Users/mhusain/opt/anaconda3/lib/python3.9/site-packages (from requests<3.0.0dev,>=2.18.0->google-api-core!=2.0.*,!=2.1.*,!=2.2.*,!=2.3.0,<3.0.0dev,>=1.31.5->google-api-python-client) (2022.9.24)\n",
      "Requirement already satisfied: idna<4,>=2.5 in /Users/mhusain/opt/anaconda3/lib/python3.9/site-packages (from requests<3.0.0dev,>=2.18.0->google-api-core!=2.0.*,!=2.1.*,!=2.2.*,!=2.3.0,<3.0.0dev,>=1.31.5->google-api-python-client) (3.3)\n",
      "Installing collected packages: uritemplate, rsa, protobuf, oauthlib, httplib2, cachetools, requests-oauthlib, googleapis-common-protos, google-auth, google-auth-oauthlib, google-auth-httplib2, google-api-core, google-api-python-client\n",
      "Successfully installed cachetools-5.3.0 google-api-core-2.11.0 google-api-python-client-2.74.0 google-auth-2.16.0 google-auth-httplib2-0.1.0 google-auth-oauthlib-0.8.0 googleapis-common-protos-1.58.0 httplib2-0.21.0 oauthlib-3.2.2 protobuf-4.21.12 requests-oauthlib-1.3.1 rsa-4.9 uritemplate-4.1.1\n"
     ]
    }
   ],
   "source": [
    "# Install Gmail Client API libraries\n",
    "\n",
    "!pip install --upgrade google-api-python-client google-auth-httplib2 google-auth-oauthlib"
   ]
  },
  {
   "cell_type": "code",
   "execution_count": 18,
   "id": "2936a2fd-b276-45c8-a089-813526a5cf04",
   "metadata": {},
   "outputs": [
    {
     "name": "stdout",
     "output_type": "stream",
     "text": [
      "Subject:  Artificial Intelligence #156\n",
      "From:  Andriy Burkov via LinkedIn <newsletters-noreply@linkedin.com>\n",
      "Received On: Sat, 28 Jan 2023 13:15:35 -0800 (PST)\n",
      "\n",
      "\n",
      "Subject:  Esther Crawford ✨ Tweeted: I was sent the link to a Turkish news sto...\n",
      "From:  Twitter <info@twitter.com>\n",
      "Received On: Sat, 28 Jan 2023 13:15:22 -0800 (PST)\n",
      "\n",
      "\n"
     ]
    }
   ],
   "source": [
    "from __future__ import print_function\n",
    "\n",
    "import os.path\n",
    "\n",
    "from google.auth.transport.requests import Request\n",
    "from google.oauth2.credentials import Credentials\n",
    "from google_auth_oauthlib.flow import InstalledAppFlow\n",
    "from googleapiclient.discovery import build\n",
    "from googleapiclient.errors import HttpError\n",
    "\n",
    "# If modifying these scopes, delete the file token.json.\n",
    "SCOPES = ['https://www.googleapis.com/auth/gmail.readonly']\n",
    "\n",
    "\n",
    "def read_mail():\n",
    "    \"\"\"Shows basic usage of the Gmail API.\n",
    "    Lists the user's Gmail labels.\n",
    "    \"\"\"\n",
    "    creds = None\n",
    "    # The file token.json stores the user's access and refresh tokens, and is\n",
    "    # created automatically when the authorization flow completes for the first\n",
    "    # time.\n",
    "    if os.path.exists('token.json'):\n",
    "        creds = Credentials.from_authorized_user_file('token.json', SCOPES)\n",
    "    # If there are no (valid) credentials available, let the user log in.\n",
    "    if not creds or not creds.valid:\n",
    "        if creds and creds.expired and creds.refresh_token:\n",
    "            creds.refresh(Request())\n",
    "        else:\n",
    "            flow = InstalledAppFlow.from_client_secrets_file(\n",
    "                'credentials.json', SCOPES)\n",
    "            creds = flow.run_local_server(port=0)\n",
    "        # Save the credentials for the next run\n",
    "        with open('token.json', 'w') as token:\n",
    "            token.write(creds.to_json())\n",
    "\n",
    "    try:\n",
    "        # Call the Gmail API\n",
    "        service = build('gmail', 'v1', credentials=creds)\n",
    "        results = service.users().messages().list(userId='me').execute()\n",
    "#         labels = results.get('labels', [])\n",
    "\n",
    "#         if not labels:\n",
    "#             print('No labels found.')\n",
    "#             return\n",
    "#         print('Labels:')\n",
    "#         for label in labels:\n",
    "#             print(label['name'])\n",
    "        msgs = results.get(\"messages\")\n",
    "        if not msgs:\n",
    "            print(\"No messages found.\")\n",
    "            return\n",
    "        \n",
    "        # Read the latest 2 email messages\n",
    "        \n",
    "        for msg in msgs[-2:]:\n",
    "            try:\n",
    "                txt = service.users().messages().get(userId='me', id=msg['id']).execute()\n",
    "\n",
    "                payload = txt['payload']\n",
    "                headers = payload['headers']\n",
    "\n",
    "                for d in headers:\n",
    "                    # print(d)\n",
    "                    if d['name'] == 'Subject':\n",
    "                        subject = d['value']\n",
    "                    if d['name'] == 'From':\n",
    "                        sender = d['value']\n",
    "                    if d[\"name\"] == \"Received\":\n",
    "                        recd_on = d[\"value\"][-37:]   # read last 37 bytes from the value to get the received date\n",
    "                \n",
    "                \n",
    "                print(\"Subject: \", subject)\n",
    "                print(\"From: \", sender)\n",
    "                print(\"Received On:\", recd_on)\n",
    "\n",
    "                # parts = payload.get('parts')[0]\n",
    "                # data = parts['body']['data']\n",
    "                # data = data.replace(\"-\",\"+\").replace(\"_\",\"/\")\n",
    "                # decoded_data = base64.b64decode(data)\n",
    "\n",
    "                # print(\"Message: \", decoded_data)\n",
    "                print('\\n')\n",
    "            except:\n",
    "                continue\n",
    "\n",
    "    except HttpError as error:\n",
    "        # TODO(developer) - Handle errors from gmail API.\n",
    "        print(f'An error occurred: {error}')\n",
    "\n",
    "\n",
    "read_mail()"
   ]
  },
  {
   "cell_type": "markdown",
   "id": "47e0b738-08fc-476d-bb0a-acec5eb1b3b7",
   "metadata": {},
   "source": [
    "## 7 . write a function which will be able to send a mail to anyone \n",
    "\n",
    "Send mail using Gmail OAuth 2.0 method using Gmail Python quickstarts.\n",
    "\n"
   ]
  },
  {
   "cell_type": "code",
   "execution_count": 11,
   "id": "4f819cdf-c28f-45f6-a940-6de4e8df5c39",
   "metadata": {},
   "outputs": [
    {
     "name": "stdout",
     "output_type": "stream",
     "text": [
      "Please visit this URL to authorize this application: https://accounts.google.com/o/oauth2/auth?response_type=code&client_id=606282883988-qpbf9pi2capkdf31m52lkkf4dsj3t5h0.apps.googleusercontent.com&redirect_uri=http%3A%2F%2Flocalhost%3A55845%2F&scope=https%3A%2F%2Fwww.googleapis.com%2Fauth%2Fgmail.send&state=FzsGFKS7xILSHEQoVWVypsnMNTbpDJ&access_type=offline\n",
      "sent message to {'id': '18601d03ce6cc5bb', 'threadId': '18601d03ce6cc5bb', 'labelIds': ['UNREAD', 'SENT', 'INBOX']} Message Id: 18601d03ce6cc5bb\n"
     ]
    }
   ],
   "source": [
    "import base64\n",
    "from email.mime.text import MIMEText\n",
    "from google_auth_oauthlib.flow import InstalledAppFlow\n",
    "from googleapiclient.discovery import build\n",
    "from requests import HTTPError\n",
    "SCOPES = [\n",
    "        \"https://www.googleapis.com/auth/gmail.send\"\n",
    "    ]\n",
    "flow = InstalledAppFlow.from_client_secrets_file(\n",
    "            'credentials.json', SCOPES)\n",
    "creds = flow.run_local_server(port=0)\n",
    "\n",
    "service = build('gmail', 'v1', credentials=creds)\n",
    "message = MIMEText('Sample body of email. Pls. ignore.')\n",
    "message['to'] = 'mustansir.husain@gmail.com'\n",
    "message['subject'] = 'iNeuron FSDS 2.0 email sending assignment - Test email'\n",
    "create_message = {'raw': base64.urlsafe_b64encode(message.as_bytes()).decode()}\n",
    "try:\n",
    "    message = (service.users().messages().send(userId=\"me\", body=create_message).execute())\n",
    "    print(F'sent message to {message} Message Id: {message[\"id\"]}')\n",
    "except HTTPError as error:\n",
    "    print(F'An error occurred: {error}')\n",
    "    message = None"
   ]
  },
  {
   "cell_type": "markdown",
   "id": "20ace7ac-a534-4a3c-b1d4-63b92706dd4a",
   "metadata": {},
   "source": [
    "Mail received is quoted below:\n",
    "\n",
    "```\n",
    "Message ID\t<CAGx9vjy-jh8Apsp6k-1NvnUTtEy6SVOrrG1xtWU=Rcv5eA4iUQ@mail.gmail.com>\n",
    "\n",
    "Created at:\tMon, Jan 30, 2023 at 12:34 PM (Delivered after 0 seconds)\n",
    "\n",
    "From:\tmustansir.husain@gmail.com\n",
    "\n",
    "To:\tmustansir.husain@gmail.com\n",
    "\n",
    "Subject:\tiNeuron FSDS 2.0 email sending assignment - Test email\n",
    "```\n"
   ]
  },
  {
   "cell_type": "markdown",
   "id": "4a16d843-0832-4f51-9c44-4a4196999437",
   "metadata": {},
   "source": [
    "## 8. write a function which will be able to read a doc/word file from your system "
   ]
  },
  {
   "cell_type": "code",
   "execution_count": 21,
   "id": "d8ebe7f3-7112-494f-823e-ec3f6ea9ea97",
   "metadata": {},
   "outputs": [
    {
     "name": "stdout",
     "output_type": "stream",
     "text": [
      "Collecting docx2txt\n",
      "  Downloading docx2txt-0.8.tar.gz (2.8 kB)\n",
      "  Preparing metadata (setup.py) ... \u001b[?25ldone\n",
      "\u001b[?25hBuilding wheels for collected packages: docx2txt\n",
      "  Building wheel for docx2txt (setup.py) ... \u001b[?25ldone\n",
      "\u001b[?25h  Created wheel for docx2txt: filename=docx2txt-0.8-py3-none-any.whl size=3960 sha256=4e10c24e62e26b4a5f600d3fcf09b16b9aff877d7a38f913204c754189d333fc\n",
      "  Stored in directory: /Users/mhusain/Library/Caches/pip/wheels/40/75/01/e6c444034338bde9c7947d3467807f889123465c2371e77418\n",
      "Successfully built docx2txt\n",
      "Installing collected packages: docx2txt\n",
      "Successfully installed docx2txt-0.8\n"
     ]
    }
   ],
   "source": [
    "# Install package Docx2Txt for reading Word documents\n",
    "\n",
    "!pip install docx2txt"
   ]
  },
  {
   "cell_type": "code",
   "execution_count": 25,
   "id": "8ba45328-bfbf-46b7-924b-f0cd5218f88c",
   "metadata": {},
   "outputs": [
    {
     "name": "stdout",
     "output_type": "stream",
     "text": [
      "Sample document.\n",
      "\n",
      "Lorem Ipsum is simply dummy text of the printing and typesetting industry. Lorem Ipsum has been the industry's standard dummy text ever since the 1500s, when an unknown printer took a galley of type and scrambled it to make a type specimen book. It has survived not only five centuries, but also the leap into electronic typesetting, remaining essentially unchanged. It was popularised in the 1960s with the release of Letraset sheets containing Lorem Ipsum passages, and more recently with desktop publishing software like Aldus PageMaker including versions of Lorem Ipsum.\n",
      "\n",
      "This text is inside the MS Word document.\n"
     ]
    }
   ],
   "source": [
    "import docx2txt\n",
    "\n",
    "# read document\n",
    "result = docx2txt.process(\"document.docx\")\n",
    "\n",
    "print(result)"
   ]
  },
  {
   "cell_type": "code",
   "execution_count": null,
   "id": "59a50478-4493-4342-a63d-d19717ba7c39",
   "metadata": {},
   "outputs": [],
   "source": []
  }
 ],
 "metadata": {
  "kernelspec": {
   "display_name": "Python 3 (ipykernel)",
   "language": "python",
   "name": "python3"
  },
  "language_info": {
   "codemirror_mode": {
    "name": "ipython",
    "version": 3
   },
   "file_extension": ".py",
   "mimetype": "text/x-python",
   "name": "python",
   "nbconvert_exporter": "python",
   "pygments_lexer": "ipython3",
   "version": "3.9.13"
  }
 },
 "nbformat": 4,
 "nbformat_minor": 5
}
